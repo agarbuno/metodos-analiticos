{
 "metadata": {
  "name": ""
 },
 "nbformat": 3,
 "nbformat_minor": 0,
 "worksheets": [
  {
   "cells": [
    {
     "cell_type": "heading",
     "level": 1,
     "metadata": {},
     "source": [
      "Lecci\u00f3n 7 - Programaci\u00f3n funcional en Spark"
     ]
    },
    {
     "cell_type": "markdown",
     "metadata": {},
     "source": [
      "### Objetivo\n",
      "El objetivo de esta lecci\u00f3n es presentar una introducci\u00f3n a la programaci\u00f3n funcional como una herramienta para el an\u00e1lisis de datos."
     ]
    },
    {
     "cell_type": "markdown",
     "metadata": {},
     "source": [
      "### Programaci\u00f3n Funcional\n",
      "\n",
      "Es un paradigma de programaci\u00f3n donde los programas se ejecutan evaluando expresiones, en contraste con la programaci\u00f3n imperativa donde los programas se componen de sentencias que alteran el estado del sistema.\n",
      "\n",
      "Para ello es necesario que las funciones sean de primera-clase, es decir que sean tratadas como cualquier otro valor, puedan ser pasadas como argumentos a otras funciones y puedan ser regresadas como valores a otras funciones.\n",
      "\n",
      "#### Caracter\u00edsticas\n",
      "\n",
      "* Funciones de primera clase y de orden superior, son funciones que toman otras funciones como argumentos o las regresan como resultado.\n",
      "* Funciones puras, son aquellas que no tienen efectos secundarios, en general eso significa que los valores no se modifican, sino que se crean copias de estos valores, preservando los originales.\n",
      "* Recursividad, la recursividad es el mecan\u00edsmo principal para iterar en los lenguajes funcionales.\n",
      "\n",
      "El hecho de las funciones no tengan efectos secundarios es muy importante para el procesamiento de datos, ya que permite paralelizar las operaciones.\n",
      "\n"
     ]
    },
    {
     "cell_type": "markdown",
     "metadata": {},
     "source": [
      "A continuaci\u00f3n presentamos algunos ejemplos de funciones de orden superior. En python, una funci\u00f3n `lambda` se utiliza para definir un objeto de tipo funci\u00f3n. Estas funciones tampoco tienen efectos secundarios."
     ]
    },
    {
     "cell_type": "code",
     "collapsed": false,
     "input": [
      "def operate(f, arg1, arg2):\n",
      "    print f(arg1, arg2)\n",
      "\n",
      "add = lambda a, b: a + b\n",
      "sub = lambda a, b: a - b\n",
      "mul = lambda a, b: a * b\n",
      "div = lambda a, b: a / b\n",
      "\n",
      "operate(add, 1, 2)\n",
      "operate(sub, 1, 2)\n",
      "operate(mul, 1, 2)\n",
      "operate(div, 1, 2)\n"
     ],
     "language": "python",
     "metadata": {},
     "outputs": [
      {
       "output_type": "stream",
       "stream": "stdout",
       "text": [
        "3\n",
        "-1\n",
        "2\n",
        "0\n"
       ]
      }
     ],
     "prompt_number": 9
    },
    {
     "cell_type": "markdown",
     "metadata": {},
     "source": [
      "Utilizando PySpark, podremos ver de mejor manera el potencial de los principios de programaci\u00f3n funcional."
     ]
    },
    {
     "cell_type": "code",
     "collapsed": false,
     "input": [
      "from pyspark import SparkContext\n",
      "sc = SparkContext(\"local[2]\", \"Functional\", pyFiles=[])"
     ],
     "language": "python",
     "metadata": {},
     "outputs": [],
     "prompt_number": 1
    },
    {
     "cell_type": "markdown",
     "metadata": {},
     "source": [
      "Primero definimos el contexto de Spark y creamos una colecci\u00f3n paralela. Esto nos permitir\u00e1 utilizar modismos funcionales desde python."
     ]
    },
    {
     "cell_type": "code",
     "collapsed": false,
     "input": [
      "import math\n",
      "\n",
      "print 'La funci\u00f3n sqrt:', math.sqrt\n",
      "col = sc.parallelize([1,2,3,4,5])\n",
      "sqrts = col.map(math.sqrt)\n",
      "print 'sqrt(x):', sqrts.collect()"
     ],
     "language": "python",
     "metadata": {},
     "outputs": [
      {
       "output_type": "stream",
       "stream": "stdout",
       "text": [
        "La funci\u00f3n sqrt: <built-in function sqrt>\n",
        "sqrt(x): [1.0, 1.4142135623730951, 1.7320508075688772, 2.0, 2.23606797749979]\n"
       ]
      }
     ],
     "prompt_number": 46
    },
    {
     "cell_type": "markdown",
     "metadata": {},
     "source": [
      "La funci\u00f3n `map` recibe una funci\u00f3n como argumento y aplica la operaci\u00f3n definida a cada uno de los elementos de la colecci\u00f3n regresando una nueva colecci\u00f3n con los valores calculados.\n",
      "\n",
      "En este ejemplo podemos ver aplicados al menos dos de los principios de programaci\u00f3n funcional.\n",
      "\n",
      "1. La funci\u00f3n `math.sqrt` se utiliza como un argumento a otra funci\u00f3n.\n",
      "1. Al aplicar la funci\u00f3n `map` no se est\u00e1 cambiando el estado global del programa, el estado de la variable `col` no se afecta, sino que regresa una nueva colecci\u00f3n con el resultado de aplicar la funci\u00f3n `math.sqrt`"
     ]
    },
    {
     "cell_type": "code",
     "collapsed": false,
     "input": [
      "import re\n",
      "\n",
      "col = sc.parallelize([\"hola\", \"esto\", \"es\", \"una\", \"demostracion\"])\n",
      "lenghts = col.map(len)\n",
      "count = lenghts.fold(0, add)\n",
      "print 'len(x):', lenghts.collect()\n",
      "print 'total:', count\n",
      "\n",
      "cat = col.fold(\"\", add)\n",
      "print 'cat:', cat\n",
      "\n",
      "consonants = col.map(lambda st: re.sub(r\"[aeiou]\", \"\", st))\n",
      "print 'remove [aeiou]:', consonants.collect()"
     ],
     "language": "python",
     "metadata": {},
     "outputs": [
      {
       "output_type": "stream",
       "stream": "stdout",
       "text": [
        "len(x): [4, 4, 2, 3, 12]\n",
        "total: 25\n",
        "cat:"
       ]
      },
      {
       "output_type": "stream",
       "stream": "stdout",
       "text": [
        " demostracionunaesestohola\n",
        "remove [aeiou]: ['hl', 'st', 's', 'n', 'dmstrcn']\n"
       ]
      }
     ],
     "prompt_number": 47
    },
    {
     "cell_type": "markdown",
     "metadata": {},
     "source": [
      "En este ejemplo podemos ver como realizar operaciones m\u00e1s elaboradas, por ejemplo la funci\u00f3n `fold` nos permite agregar los resultados utilizando una funcion asociativa y un valor neutral. \n",
      "\n",
      "$$(0 + (4 + (4 + (2 + (3 + 12))))) = 25$$\n",
      "\n",
      "Es importante notar el orden en el que se aplica la funci\u00f3n fold.\n",
      "\n",
      "Ahora contemos el n\u00famero de veces que aparece cada letra en la colecci\u00f3n:"
     ]
    },
    {
     "cell_type": "code",
     "collapsed": false,
     "input": [
      "words = col.map(list)\n",
      "print 'split words:', words.collect()\n",
      "\n",
      "chars = col.flatMap(list)\n",
      "counts = chars.map(lambda item: (item, 1)).reduceByKey(add)\n",
      "print 'chars:', chars.collect()\n",
      "print 'counts:', counts.collect()\n",
      "print chars.countByKey()"
     ],
     "language": "python",
     "metadata": {},
     "outputs": [
      {
       "output_type": "stream",
       "stream": "stdout",
       "text": [
        "split word: [['h', 'o', 'l', 'a'], ['e', 's', 't', 'o'], ['e', 's'], ['u', 'n', 'a'], ['d', 'e', 'm', 'o', 's', 't', 'r', 'a', 'c', 'i', 'o', 'n']]\n",
        "chars:"
       ]
      },
      {
       "output_type": "stream",
       "stream": "stdout",
       "text": [
        " ['h', 'o', 'l', 'a', 'e', 's', 't', 'o', 'e', 's', 'u', 'n', 'a', 'd', 'e', 'm', 'o', 's', 't', 'r', 'a', 'c', 'i', 'o', 'n']\n",
        "counts: "
       ]
      },
      {
       "output_type": "stream",
       "stream": "stdout",
       "text": [
        "[('a', 3), ('c', 1), ('e', 3), ('d', 1), ('i', 1), ('h', 1), ('m', 1), ('l', 1), ('o', 4), ('n', 2), ('s', 3), ('r', 1), ('u', 1), ('t', 2)]\n",
        "defaultdict(<type 'int'>, {'a': 3, 'c': 1, 'e': 3, 'd': 1, 'i': 1, 'h': 1, 'm': 1, 'l': 1, 'o': 4, 'n': 2, 's': 3, 'r': 1, 'u': 1, 't': 2})\n"
       ]
      }
     ],
     "prompt_number": 48
    },
    {
     "cell_type": "markdown",
     "metadata": {},
     "source": [
      "En este ejemplo utilizamos dos funciones nuevas, la funci\u00f3n `flatMap` aplica la funci\u00f3n a cada uno de los elementos y despu\u00e9s des-empaca las iterables que resultan. `reduceByKey` agrega los resultados utilizando una funci\u00f3n asociativa sobre la llave."
     ]
    },
    {
     "cell_type": "code",
     "collapsed": false,
     "input": [
      "ds1 = sc.parallelize([(\"mexico\", 2), (\"australia\", 8), (\"alemania\", 9),\n",
      "                      (\"canada\", 1), (\"francia\", 8)])\n",
      "ds2 = sc.parallelize([(\"mexico\", \"green\"), \n",
      "                      (\"australia\", \"blue\"), \n",
      "                      (\"alemania\", \"yellow\"),\n",
      "                      (\"canada\", \"red\"),\n",
      "                     (\"canada\", \"blue\"), (\"francia\", \"white\")])\n",
      "\n",
      "dataset = ds1.join(ds2)\n",
      "print dataset.collect()"
     ],
     "language": "python",
     "metadata": {},
     "outputs": [
      {
       "output_type": "stream",
       "stream": "stdout",
       "text": [
        "[('canada', (1, 'red')), ('canada', (1, 'blue')), ('alemania', (9, 'yellow')), ('francia', (8, 'white')), ('australia', (8, 'blue')), ('mexico', (2, 'green'))]\n"
       ]
      }
     ],
     "prompt_number": 3
    },
    {
     "cell_type": "markdown",
     "metadata": {},
     "source": [
      "La funci\u00f3n `join` nos permite unir los elementos de un dataset a partir de una llave."
     ]
    },
    {
     "cell_type": "markdown",
     "metadata": {},
     "source": [
      "### Ejemplo\n",
      "\n",
      "A continuaci\u00f3n hacemos un an\u00e1lisis sobre las caracter\u00edsticas de una muestra de los usuarios de Twitter"
     ]
    },
    {
     "cell_type": "code",
     "collapsed": false,
     "input": [
      "users = sc.textFile('data/users.tsv')\n",
      "count = users.count()\n",
      "print 'usuarios:', count"
     ],
     "language": "python",
     "metadata": {},
     "outputs": [
      {
       "output_type": "stream",
       "stream": "stdout",
       "text": [
        "usuarios: 19999\n"
       ]
      }
     ],
     "prompt_number": 6
    },
    {
     "cell_type": "code",
     "collapsed": false,
     "input": [
      "data = users.map(lambda st: st.split('\\t')).cache()\n",
      "print data.take(5)"
     ],
     "language": "python",
     "metadata": {},
     "outputs": [
      {
       "output_type": "stream",
       "stream": "stdout",
       "text": [
        "[[u'12', u'jack', u'Jack Dorsey', u'2536533', u'1071', u'14394', u'en', u'-28800', u'Pacific Time (US & Canada)', u'1', u'0', u'Twitter, Square', u'California'], [u'13', u'biz', u'Biz Stone', u'2093347', u'567', u'5209', u'en', u'-25200', u'Pacific Time (US & Canada)', u'1', u'0', u'Co-founder of Twitter, Inc. + Co-founder & CEO of Jelly', u'San Francisco, CA'], [u'15', u'crystal', u'crystal', u'40085', u'243', u'13962', u'en', u'-28800', u'Tijuana', u'0', u'0', u\"don't hate, appreciate\", u'San Francisco'], [u'16', u'jeremy', u'Jeremy', u'12046', u'604', u'5390', u'en', u'-28800', u'Pacific Time (US & Canada)', u'0', u'0', u\"Lacking pretense isn't always helpful in life. Since 2005.\", u'Berkeley CA'], [u'17', u'tonystubblebine', u'Tony Stubblebine', u'16082', u'427', u'7472', u'en', u'-28800', u'Pacific Time (US & Canada)', u'0', u'0', u'Startup nerd. Human potential nerd. CEO and co-founder of @liftapp. Bi-coastal. Often joking.', u'SF/NYC']]\n"
       ]
      }
     ],
     "prompt_number": 11
    },
    {
     "cell_type": "code",
     "collapsed": false,
     "input": [
      "total_followers = data.map(lambda item: int(item[3])).fold(0, add)\n",
      "total_friends = data.map(lambda item: int(item[4])).fold(0, add)\n",
      "total_status = data.map(lambda item: int(item[5])).fold(0, add)\n",
      "print 'average followers: %.2f' % (total_followers / float(count))\n",
      "print 'average friends: %.2f' % (total_friends / float(count))\n",
      "print 'average status: %.2f' % (total_status / float(count))"
     ],
     "language": "python",
     "metadata": {},
     "outputs": [
      {
       "output_type": "stream",
       "stream": "stdout",
       "text": [
        "average followers: 4619.24\n",
        "average friends: 401.43\n",
        "average status: 4493.79\n"
       ]
      }
     ],
     "prompt_number": 10
    },
    {
     "cell_type": "code",
     "collapsed": false,
     "input": [
      "screen_name_lenght = data.map(lambda item: len(item[1])).fold(0, add)\n",
      "print 'average screen name: %.2f' % (screen_name_lenght / float(count))"
     ],
     "language": "python",
     "metadata": {},
     "outputs": [
      {
       "output_type": "stream",
       "stream": "stdout",
       "text": [
        "average screen name: 13.64\n"
       ]
      }
     ],
     "prompt_number": 28
    },
    {
     "cell_type": "code",
     "collapsed": false,
     "input": [
      "early_users = data.filter(lambda item: int(item[0]) < 1000)\n",
      "early_name_lenght = early_users.map(lambda item: len(item[1])).fold(0, add)\n",
      "print 'average screen name: %.2f' % (early_name_lenght / float(early_users.count()))"
     ],
     "language": "python",
     "metadata": {},
     "outputs": [
      {
       "output_type": "stream",
       "stream": "stdout",
       "text": [
        "average screen name: 6.49\n"
       ]
      }
     ],
     "prompt_number": 17
    },
    {
     "cell_type": "code",
     "collapsed": false,
     "input": [
      "locations = data.map(lambda item: item[8]).map(lambda item: (item, 1)).reduceByKey(add)\n",
      "top_locations = locations.map(lambda item: (item[1], item[0])).sortByKey(ascending=False)\n",
      "print top_locations.take(5)"
     ],
     "language": "python",
     "metadata": {},
     "outputs": [
      {
       "output_type": "stream",
       "stream": "stdout",
       "text": [
        "[(9969, u'0'), (2283, u'Eastern Time (US & Canada)'), (1945, u'Pacific Time (US & Canada)'), (1305, u'London'), (965, u'Central Time (US & Canada)')]\n"
       ]
      }
     ],
     "prompt_number": 20
    },
    {
     "cell_type": "code",
     "collapsed": false,
     "input": [
      "early_locations = early_users.map(lambda item: item[12]).map(lambda item: (item, 1)).reduceByKey(add)\n",
      "top_early_locations = early_locations.map(lambda item: (item[1], item[0])).sortByKey(ascending=False)\n",
      "print top_early_locations.take(5)"
     ],
     "language": "python",
     "metadata": {},
     "outputs": [
      {
       "output_type": "stream",
       "stream": "stdout",
       "text": [
        "[(18, u'San Francisco'), (17, u''), (16, u'San Francisco, CA'), (6, u'Brooklyn, NY'), (5, u'NYC')]\n"
       ]
      }
     ],
     "prompt_number": 18
    },
    {
     "cell_type": "markdown",
     "metadata": {},
     "source": [
      "Finalmente como un ejercicio de clase vamos a obtener cuales son los elementos comunes en las descripciones de los usuarios."
     ]
    },
    {
     "cell_type": "code",
     "collapsed": false,
     "input": [
      "descriptions = data.map(lambda item: item[11])\n",
      "tokens = descriptions.map(lambda desc: desc.lower())\\\n",
      "    .flatMap(lambda desc: desc.split()) \n",
      "token_count = tokens.map(lambda token: (token, 1))\\\n",
      "    .reduceByKey(add)\n",
      "freq = token_count.map(lambda _: _[1])\n",
      "total_tokens = freq.fold(0, add)\n",
      "\n",
      "print total_tokens"
     ],
     "language": "python",
     "metadata": {},
     "outputs": [
      {
       "output_type": "stream",
       "stream": "stdout",
       "text": [
        "121402\n"
       ]
      }
     ],
     "prompt_number": 37
    },
    {
     "cell_type": "code",
     "collapsed": false,
     "input": [
      "%pylab inline"
     ],
     "language": "python",
     "metadata": {},
     "outputs": [
      {
       "output_type": "stream",
       "stream": "stdout",
       "text": [
        "Populating the interactive namespace from numpy and matplotlib\n"
       ]
      },
      {
       "output_type": "stream",
       "stream": "stderr",
       "text": [
        "WARNING: pylab import has clobbered these variables: ['add']\n",
        "`%pylab --no-import-all` prevents importing * from pylab and numpy\n"
       ]
      }
     ],
     "prompt_number": 38
    },
    {
     "cell_type": "code",
     "collapsed": false,
     "input": [
      "fr = sorted(freq.collect(),reverse=True)\n",
      "plt = plot(fr)\n",
      "yscale('log')\n",
      "xscale('log')"
     ],
     "language": "python",
     "metadata": {},
     "outputs": [
      {
       "metadata": {},
       "output_type": "display_data",
       "png": "[encoded data removed]",
       "text": [
        "<matplotlib.figure.Figure at 0x106b18410>"
       ]
      }
     ],
     "prompt_number": 47
    },
    {
     "cell_type": "markdown",
     "metadata": {},
     "source": [
      "Podemos observar que la distribuci\u00f3n del lenguaje en las descripciones sigue una ley de Zipf, es decir hay un gran n\u00famero de palabras que se utilizan muy poco, al mismo tiempo que hay un n\u00famero peque\u00f1o de palabras que se utilizan de manera muy frecuente."
     ]
    },
    {
     "cell_type": "code",
     "collapsed": false,
     "input": [],
     "language": "python",
     "metadata": {},
     "outputs": []
    }
   ],
   "metadata": {}
  }
 ]
}