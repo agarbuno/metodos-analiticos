{
 "metadata": {
  "name": ""
 },
 "nbformat": 3,
 "nbformat_minor": 0,
 "worksheets": [
  {
   "cells": [
    {
     "cell_type": "heading",
     "level": 1,
     "metadata": {},
     "source": [
      "Lecci\u00f3n 6 - Mining Streams"
     ]
    },
    {
     "cell_type": "markdown",
     "metadata": {},
     "source": [
      "### Objetivo\n",
      "El objetivo de esta lecci\u00f3n es entender como funcionan distintos algoritmos para miner\u00eda de flujos de datos, es decir informaci\u00f3n que no est\u00e1 almacenada sino se va adquiriendo de forma incremental.\n",
      "\n",
      "Nota: Esta lecci\u00f3n est\u00e1 basada en el Cap\u00edtulo 4 del libro Mining of Massive Datasets. Rajaraman, Leskovec and Ullman 2012 y en las notas del curso de M\u00e9todos Anal\u00edticos del 2013 por Felipe Gonzalez."
     ]
    },
    {
     "cell_type": "markdown",
     "metadata": {},
     "source": [
      "### Miner\u00eda de flujos\n",
      "\n",
      "Existen diversas razones por las que es necesario minar flujos de datos en tiempo real en memoria, en lugar de almacenarla para realizar consultas en otro momento, por ejemplo, \n",
      "\n",
      "* el flujo de informaci\u00f3n es tan grande que no es pr\u00e1ctico almacenarla\n",
      "* el flujo de informaci\u00f3n es tan r\u00e1pido que si movieramos la informaci\u00f3n a disco perder\u00edamos capacidad de procesarla\n",
      "\n",
      "No obstante queremos tener la capacidad de analizar esta informaci\u00f3n conforme se genera.\n",
      "\n",
      "Algunas procesos interesantes que podemos aplicar sobre estos flujos son por ejemplo:\n",
      "\n",
      "* muestrear aleatoriamente un flujo\n",
      "* filtrar objetos no deseados\n",
      "* estimar el n\u00famero de elementos distintos utilizando estructuras de datos probabil\u00edsticas\n",
      "\n",
      "Y algunos otros m\u00e1s simples:\n",
      "\n",
      "* ventanas de tiempo\n",
      "* res\u00famenes acumulados (m\u00e1ximo, m\u00ednimo, promedio, \u00bfmediana?)\n",
      "\n",
      "A todo esto, \u00bfcu\u00e1les son algunos ejemplos de flujos?\n",
      "\n",
      "* datos de sensores\n",
      "* flujos de im\u00e1genes\n",
      "* logs de internet\n"
     ]
    },
    {
     "cell_type": "markdown",
     "metadata": {},
     "source": [
      "#### Res\u00famenes acumulados\n",
      "\n",
      "Comencemos por explorar la forma m\u00e1s simple de an\u00e1lisis de flujos.\n",
      "\n",
      "\u00bfCu\u00e1les son los algoritmos para encontrar estadisticas descriptivas sobre un flujo?\n",
      "\n",
      "* m\u00e1ximo\n",
      "* m\u00ednimo\n",
      "* promedio\n",
      "\n",
      "##### Estad\u00edsticas de orden\n",
      "\n",
      "Las estad\u00edsticas de orden tienen una caracter\u00edstica especial, esta es, que tienen que conocer el orden de los elementos para poder contestar a la pregunta, \u00bfCu\u00e1l es el valor del elemento que est\u00e1 a la mitad?\n",
      "\n",
      "##### Ventanas de tiempo\n",
      "\n",
      "Otra posibilidad para consultar informaci\u00f3n sobre un flujo, es hacer consultas sobre ventanas de tiempo de tama\u00f1o $n$ que en general representan los $n$ elementos m\u00e1s recientes del flujo. O guardar un numero de elementos arbitrarios que permitan consultar los datos para un periodo de tiempo $t$.\n"
     ]
    },
    {
     "cell_type": "markdown",
     "metadata": {},
     "source": [
      "### Muestreo de flujos"
     ]
    },
    {
     "cell_type": "markdown",
     "metadata": {},
     "source": [
      "Supongamos que queremos tomar una musestra de un flujo para posteriormente realizar operaciones sobre de ella, \u00bfC\u00f3mo hacemos para que la muestra sea representativa del flujo total? La estrategia de muestreo depende de que es lo que se quiere muestrear. Por ejemplo, dado un sistema que recibe informaci\u00f3n de m\u00faltiples sensores.\n",
      "\n",
      "* Muestrar eventos que tienen una duraci\u00f3n mayor a D, se pueden muestrear los eventos directamente\n",
      "* Muestrar la proporci\u00f3n de sensores que tienen eventos de duraci\u00f3n mayor a D, muestrear los eventos\n",
      "\n",
      "En el primer caso es sencillo realizar el muestreo, generar un n\u00famero aleatorio entre 0 y $n$ donde $n$ es el inverso de la proporci\u00f3n $1/n$ que se quiere muestrear.\n",
      "\n",
      "El segundo caso sin embargo, requiere que podamos identificar cuales son los usuarios que estamos muestreando, para que tomemos en cuenta todas las observaciones que les corresponden.\n",
      "\n",
      "\u00bfC\u00f3mo podemos utilizar hashing para no tener que almacenar una lista con todos los usuarios que s\u00ed debemos muestrear?\n"
     ]
    },
    {
     "cell_type": "code",
     "collapsed": false,
     "input": [
      "import random\n",
      "\n",
      "NUM_USERS = 10000\n",
      "\n",
      "rnd = random.Random(11)\n",
      "events = list()\n",
      "for i in range(1000000):\n",
      "    duration = 0\n",
      "    if rnd.random() > 0.2:\n",
      "        duration = rnd.randint(0, 200 - 1)\n",
      "    else: \n",
      "        duration = rnd.randint(200, 1000 - 1)\n",
      "    events.append((rnd.randint(0, NUM_USERS - 1), duration))"
     ],
     "language": "python",
     "metadata": {},
     "outputs": [],
     "prompt_number": 1
    },
    {
     "cell_type": "code",
     "collapsed": false,
     "input": [
      "def sample(elements, pct):\n",
      "    sampled = list()\n",
      "    for elem in elements: \n",
      "        r = rnd.randint(0,int(1/pct))\n",
      "        if r == 0:\n",
      "            sampled.append(elem)\n",
      "    return sampled\n",
      "\n",
      "def proportion(sampled, threshold):\n",
      "    count = 0\n",
      "    for event in sampled:\n",
      "        if event[1] > threshold:\n",
      "            count += 1\n",
      "    print \"Proporci\u00f3n de eventos > %s: %.4f\" % (threshold, count / float(len(sampled)))\n",
      "              "
     ],
     "language": "python",
     "metadata": {},
     "outputs": [],
     "prompt_number": 2
    },
    {
     "cell_type": "code",
     "collapsed": false,
     "input": [
      "# Contar eventos con duraci\u00f3n mayor a 200\n",
      "proportion(events, 200)\n",
      "sampled = sample(events, .01)\n",
      "proportion(sampled, 200)"
     ],
     "language": "python",
     "metadata": {},
     "outputs": [
      {
       "output_type": "stream",
       "stream": "stdout",
       "text": [
        "Proporci\u00f3n de eventos > 200: 0.1992\n",
        "Proporci\u00f3n de eventos > 200: 0.2004"
       ]
      },
      {
       "output_type": "stream",
       "stream": "stdout",
       "text": [
        "\n"
       ]
      }
     ],
     "prompt_number": 3
    },
    {
     "cell_type": "code",
     "collapsed": false,
     "input": [
      "def sampled_per_user(data):\n",
      "    r = rnd.randint(0, len(data))\n",
      "    user = data[r][0]\n",
      "    filtered = [_ for _ in data if _[0] == user]\n",
      "    proportion(filtered, 200)"
     ],
     "language": "python",
     "metadata": {},
     "outputs": [],
     "prompt_number": 4
    },
    {
     "cell_type": "code",
     "collapsed": false,
     "input": [
      "# Que proporci\u00f3n de los eventos de un usuario aleatorio fueron mayores a 200\n",
      "for i in range(5):\n",
      "    sampled_per_user(sampled)"
     ],
     "language": "python",
     "metadata": {},
     "outputs": [
      {
       "output_type": "stream",
       "stream": "stdout",
       "text": [
        "Proporci\u00f3n de eventos > 200: 0.0000\n",
        "Proporci\u00f3n de eventos > 200: 0.5000\n",
        "Proporci\u00f3n de eventos > 200: 0.0000\n",
        "Proporci\u00f3n de eventos > 200: 0.0000\n",
        "Proporci\u00f3n de eventos > 200: 0.0000\n"
       ]
      }
     ],
     "prompt_number": 20
    },
    {
     "cell_type": "markdown",
     "metadata": {},
     "source": [
      "Podemos observar que el n\u00famero de eventos mayores a 200 para los usuarios muestreados no corresponde a los de su distribuci\u00f3n. Ya que los eventos que la muestra se hace sobre todos elementos sin tomar en cuenta que algunos eventos para un usuario suceden con menor probabilidad\n",
      "\n",
      "#### \u00bfC\u00f3mo podemos obtener una muestra representativa por usuario?\n",
      "\n",
      "Nuestro objetivo es muestrear todos los eventos de la proporci\u00f3n correcta de los usuarios."
     ]
    },
    {
     "cell_type": "code",
     "collapsed": false,
     "input": [
      "def sample_users(elements, pct):\n",
      "    seen = dict()\n",
      "    sampled = list()\n",
      "    for elem in elements: \n",
      "        user = elem[0]\n",
      "        if not user in seen:\n",
      "            r = rnd.randint(0,int(1/pct))\n",
      "            seen[user] = (r == 0)\n",
      "        if seen[user]:\n",
      "            sampled.append(elem)\n",
      "    return sampled"
     ],
     "language": "python",
     "metadata": {},
     "outputs": [],
     "prompt_number": 6
    },
    {
     "cell_type": "code",
     "collapsed": false,
     "input": [
      "user_sampled = sample_users(events, 0.01)\n",
      "proportion(user_sampled, 200)"
     ],
     "language": "python",
     "metadata": {},
     "outputs": [
      {
       "output_type": "stream",
       "stream": "stdout",
       "text": [
        "Proporci\u00f3n de eventos > 200: 0.1956\n"
       ]
      }
     ],
     "prompt_number": 7
    },
    {
     "cell_type": "code",
     "collapsed": false,
     "input": [
      "# Que proporci\u00f3n de los eventos de un usuario aleatorio fueron mayores a 200\n",
      "for i in range(5):\n",
      "    sampled_per_user(user_sampled)"
     ],
     "language": "python",
     "metadata": {},
     "outputs": [
      {
       "output_type": "stream",
       "stream": "stdout",
       "text": [
        "Proporci\u00f3n de eventos > 200: 0.1684\n",
        "Proporci\u00f3n de eventos > 200: 0.1759\n",
        "Proporci\u00f3n de eventos > 200: 0.1909\n",
        "Proporci\u00f3n de eventos > 200: 0.1731\n",
        "Proporci\u00f3n de eventos > 200: 0.2809\n"
       ]
      }
     ],
     "prompt_number": 8
    },
    {
     "cell_type": "markdown",
     "metadata": {},
     "source": [
      "El problema con este enfoque es que tenemos que mantener la informaci\u00f3n sobre todos los usuarios que hemos observado hasta el momento, para poder determinar si los tenemos que muestrear o no.\n",
      "\n",
      "Una alternativa eficiente en memoria es... utilizar hashes. Si el hash del usuario corresponde a la cubeta 0 lo muestreamos de otra forma no."
     ]
    },
    {
     "cell_type": "code",
     "collapsed": false,
     "input": [
      "def sample_users_hash(elements, pct):\n",
      "    sampled = list()\n",
      "    for elem in elements: \n",
      "        if hash(elem[0]) % int(1/pct) == 0:\n",
      "            sampled.append(elem)\n",
      "    return sampled"
     ],
     "language": "python",
     "metadata": {},
     "outputs": [],
     "prompt_number": 9
    },
    {
     "cell_type": "code",
     "collapsed": false,
     "input": [
      "user_sampled_hash = sample_users_hash(events, 0.01)\n",
      "proportion(user_sampled_hash, 200)"
     ],
     "language": "python",
     "metadata": {},
     "outputs": [
      {
       "output_type": "stream",
       "stream": "stdout",
       "text": [
        "Proporci\u00f3n de eventos > 200: 0.1990\n"
       ]
      }
     ],
     "prompt_number": 10
    },
    {
     "cell_type": "code",
     "collapsed": false,
     "input": [
      "for i in range(5):\n",
      "    sampled_per_user(user_sampled_hash)"
     ],
     "language": "python",
     "metadata": {},
     "outputs": [
      {
       "output_type": "stream",
       "stream": "stdout",
       "text": [
        "Proporci\u00f3n de eventos > 200: 0.2222\n",
        "Proporci\u00f3n de eventos > 200: 0.2300\n",
        "Proporci\u00f3n de eventos > 200: 0.2182\n",
        "Proporci\u00f3n de eventos > 200: 0.2589\n",
        "Proporci\u00f3n de eventos > 200: 0.3196\n"
       ]
      }
     ],
     "prompt_number": 11
    },
    {
     "cell_type": "markdown",
     "metadata": {},
     "source": [
      "En este caso la funci\u00f3n hash funciona como un generador de n\u00fameros aleatorios que siempre mapea al mismo usuario al mismo n\u00famero aleatorio.\n",
      "\n",
      "En general se puede obtener una muestra de una fracci\u00f3n $a/b$ aplicando hashes a $b$ cubetas y muestreando aquellos cuyo hash sea menor a $a$."
     ]
    },
    {
     "cell_type": "code",
     "collapsed": false,
     "input": [
      "def sample_hash(elements, a, b):\n",
      "    sampled = list()\n",
      "    for elem in elements: \n",
      "        if hash(elem[0]) % b < a:\n",
      "            sampled.append(elem)\n",
      "    return sampled"
     ],
     "language": "python",
     "metadata": {},
     "outputs": [],
     "prompt_number": 12
    },
    {
     "cell_type": "code",
     "collapsed": false,
     "input": [
      "sampled_hash = sample_hash(events, 1, 100)\n",
      "proportion(sampled_hash, 200)"
     ],
     "language": "python",
     "metadata": {},
     "outputs": [
      {
       "output_type": "stream",
       "stream": "stdout",
       "text": [
        "Proporci\u00f3n de eventos > 200: 0.1990\n"
       ]
      }
     ],
     "prompt_number": 13
    },
    {
     "cell_type": "code",
     "collapsed": false,
     "input": [
      "for i in range(5):\n",
      "    sampled_per_user(sampled_hash)"
     ],
     "language": "python",
     "metadata": {},
     "outputs": [
      {
       "output_type": "stream",
       "stream": "stdout",
       "text": [
        "Proporci\u00f3n de eventos > 200: 0.1731\n",
        "Proporci\u00f3n de eventos > 200: 0.1630\n",
        "Proporci\u00f3n de eventos > 200: 0.1532\n",
        "Proporci\u00f3n de eventos > 200: 0.1727\n",
        "Proporci\u00f3n de eventos > 200: 0.2190\n"
       ]
      }
     ],
     "prompt_number": 14
    },
    {
     "cell_type": "code",
     "collapsed": false,
     "input": [
      "from collections import defaultdict\n",
      "\n",
      "def get_proportion(sampled, threshold):\n",
      "    count = 0\n",
      "    for event in sampled:\n",
      "        if event[1] > threshold:\n",
      "            count += 1\n",
      "    return count / float(len(sampled))    \n",
      "\n",
      "def proportion_per_user(sdata):\n",
      "    per_user = defaultdict(int)\n",
      "    per_user_total = defaultdict(int)\n",
      "    for event in sdata:\n",
      "        per_user[event[0]] += (1 if event[1] > 200 else 0)\n",
      "        per_user_total[event[0]] += 1\n",
      "\n",
      "    sm = 0\n",
      "    for user, user_events in per_user.items():\n",
      "        sm += user_events / float(per_user_total[user])\n",
      "        \n",
      "    print \"Promedio de proporci\u00f3n de eventos por usuario > %s: %.2f @%s\" % (200, sm / len(per_user), len(per_user))\n",
      "    \n",
      "proportion_per_user(sampled)\n",
      "proportion_per_user(user_sampled)\n",
      "proportion_per_user(user_sampled_hash)\n",
      "proportion_per_user(events)"
     ],
     "language": "python",
     "metadata": {},
     "outputs": [
      {
       "output_type": "stream",
       "stream": "stdout",
       "text": [
        "Promedio de proporci\u00f3n de eventos por usuario > 200: 0.20 @6327\n",
        "Promedio de proporci\u00f3n de eventos por usuario > 200: 0.20 @98\n",
        "Promedio de proporci\u00f3n de eventos por usuario > 200: 0.20 @100\n",
        "Promedio de proporci\u00f3n de eventos por usuario > 200: 0.20 @10000"
       ]
      },
      {
       "output_type": "stream",
       "stream": "stdout",
       "text": [
        "\n"
       ]
      }
     ],
     "prompt_number": 16
    },
    {
     "cell_type": "markdown",
     "metadata": {},
     "source": [
      "### Filtrado"
     ]
    },
    {
     "cell_type": "markdown",
     "metadata": {},
     "source": [
      "Otro proceso com\u00fan a aplicar sobre flujos es el filtrado, nos gustar\u00eda tener un proceso para dejar pasar ciertos registros y no otros, por ejemplo filtrar las direcciones peligrosas en un navegador. Este proceso se complica cuando \n",
      "\n",
      " * El flujo es muy grande y no podemos mantener en memoria la membres\u00eda de todos los datos del conjunto\n",
      " * No queremos acceder al disco cada vez que queremos hacer una consulta.\n",
      "\n",
      "Suponiendo que tenemos 1 megabyte de memoria disponible para almacenar esta informaci\u00f3n podr\u00edamos almacenar hasta 1 millon de registros de direcciones peligrosas utilizando un bit por direcci\u00f3n, utilizando... una funci\u00f3n hash para mapear cada direcci\u00f3n a uno de los bits.\n",
      "\n",
      "Cuando queremos validar una direcci\u00f3n, \n",
      "\n",
      "* Aplicamos una funci\u00f3n hash a la direcci\u00f3n\n",
      "* Checamos si dicha direcci\u00f3n est\u00e1 en nuestro arreglo de memoria\n",
      "* Si encontramos la direcci\u00f3n en el arreglo mandamos una p\u00e1gina alertando al usuario.\n",
      "\n",
      "Es posible que al utilizar este m\u00e9todo algunas p\u00e1ginas que no son peligrosas mapen a un bit encendido. En cuyo caso tendremos un falso positivo.\n",
      "\n",
      "#### El filtro de Bloom\n",
      "\n",
      "Un filtro de bloom consiste en:\n",
      "\n",
      "1. Un arreglo de $n$ bits\n",
      "1. Una colecci\u00f3n de $k$ funciones hash que mapean de manera \u00fanica el valor a uno de los $n$ los buckets\n",
      "1. Un conjunto $S$ de $m$ llaves\n",
      "\n",
      "El objeto de esta funci\u00f3n es dejar pasar aquellos elementos cuyo valor est\u00e9 en el conjunto y no rechazar la mayor\u00eda de los que no est\u00e1n en el conjunto.\n",
      "\n",
      "En el caso de las p\u00e1ginas maliciosas lo utilizamos de forma inversa pero el principio es el mismo.\n",
      "\n",
      "* Para construir el filtro, inicializamos el arreglo con ceros\n",
      "* Para cada valor $s$ en $S$\n",
      "    * Aplicamos cada una de las $h_k$ funciones a $s$\n",
      "    * Cambiamos a 1 cada uno de los bits designados por las funciones $h_k$\n",
      "* Para probar si un nuevo elemento est\u00e1 en el filtro, aplicamos el mismo procedimiento y verificamos que todos los bits esten encendidos.\n",
      "* Si alguno de los bits no est\u00e1 encendido entonces es seguro que $s$ no estaba en el conjunto.\n",
      "* En cambio, si todos los bits est\u00e1n prendidos es probable sea un falso positivo debido a una colisi\u00f3n\n",
      "\n",
      "##### An\u00e1lsis\n",
      "\n",
      "A continuaci\u00f3n analizamos las propiedades estad\u00edsticas del filtro. La cantidad que nos interesa conocer es cual es la probabilidad de un falso positivo, como funci\u00f3n de $n$ la longitud del filtro, $m$ el n\u00famero de elementos en el conjunto y $k$ el n\u00famero de funciones.\n",
      "\n",
      "La probabilidad de que un bit no sea 1 para un elemento y una funci\u00f3n $h_k$ es:\n",
      "\n",
      "$$1 - \\frac{1}{n}$$\n",
      "\n",
      "De que no sea 1 para ninguna de las funciones $h_k$ es:\n",
      "\n",
      "$$\\left(1 - \\frac{1}{n}\\right)^k$$\n",
      "\n",
      "La probabilidad de que despu\u00e9s de insertar $m$ elementos un bit a\u00fan sea 0 es:\n",
      "\n",
      "\n",
      "$$\\left(1 - \\frac{1}{n}\\right)^{km}$$\n",
      "\n",
      "\n",
      "Por lo tanto la probabilidad de que un elemento sea 1 despu\u00e9s de insertar $m$ elementos es:\n",
      "\n",
      "\n",
      "$$1 - \\left(1 - \\frac{1}{n}\\right)^{km}$$\n",
      "\n",
      "\n",
      "Cuando insertamos un nuevo elemento cada uno de los las $k$ posiciones tiene una probabilidad de ser uno igual a $1 - \\left(1 - \\frac{1}{n}\\right)^{km}$ por lo tanto la probabilidad de que las $k$ posiciones sean 1 es:\n",
      "\n",
      "$$\\left[1 - \\left(1 - \\frac{1}{n}\\right)^{km}\\right]^k \\approx \\left(1 - e^{-km/n}\\right)^k$$\n",
      "\n",
      "Esta aproximaci\u00f3n asume independencia entre cada una de las probabilidades, si bien esto no es estrictamente correcto para valores grandes de $n$ y valores chicos de $k$ la aproximaci\u00f3n es buena. Ver http://people.scs.carleton.ca/~kranakis/Papers/TR-07-07.pdf\n",
      "\n",
      "Por lo tanto podemos concluir que la probabilidad de falsos positivos disminuye conforme utilizamos arreglos de bits m\u00e1s grandes (valores m\u00e1s grandes de $n$) e incrementa conforme agregamos m\u00e1s elementos al conjunto (valores m\u00e1s grandes de $m$).\n",
      "\n",
      "##### N\u00famero \u00f3ptimo de funciones\n",
      "\n",
      "Dado $n$ y $m$ el valor de $k$ que minimiza la probabilidad de falsos positivos es:\n",
      "\n",
      "$$k = \\frac{n}{m}\\text{ln }2$$\n",
      "\n",
      "El n\u00famero de bits $n$, requerido para mantener esta probabilidad de falsos positivos es:\n",
      "\n",
      "$$n = -\\frac{m\\text{ ln }p}{(\\text{ln }2)^2}$$\n"
     ]
    },
    {
     "cell_type": "code",
     "collapsed": false,
     "input": [],
     "language": "python",
     "metadata": {},
     "outputs": []
    }
   ],
   "metadata": {}
  }
 ]
}