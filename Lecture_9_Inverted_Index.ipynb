{
 "metadata": {
  "name": ""
 },
 "nbformat": 3,
 "nbformat_minor": 0,
 "worksheets": [
  {
   "cells": [
    {
     "cell_type": "heading",
     "level": 1,
     "metadata": {},
     "source": [
      "Lecci\u00f3n 9 - \u00cdndices invertidos"
     ]
    },
    {
     "cell_type": "markdown",
     "metadata": {},
     "source": [
      "### Objetivo\n",
      "El objetivo de esta lecci\u00f3n es presentar los \u00edndices invertidos y sus aplicaciones"
     ]
    },
    {
     "cell_type": "markdown",
     "metadata": {},
     "source": [
      "### \u00cdndice invertido\n",
      "\n",
      "Un \u00edndice invertido es una estructura eficiente para realizar b\u00fasqueda de documentos.\n",
      "\n",
      "Los principales pasos para construir un \u00edndice son:\n",
      "\n",
      "* Colectar los documentos a indexar\n",
      "* Separar los documentos en Tokens\n",
      "* Hacer procesamiento ling\u00fcistico de los textos\n",
      "* Indexar los documentos y cada uno de los t\u00e9rminos que aparecen en ellos\n",
      "\n",
      "Los dos elementos principales de un \u00edndice invertido son:\n",
      "\n",
      "* El diccionario de t\u00e9rminos\n",
      "* La l\u00edsta de documentos en los que aparecen dichos t\u00e9rminos"
     ]
    },
    {
     "cell_type": "markdown",
     "metadata": {},
     "source": [
      "Por ejemplo la colecci\u00f3n de documentos:\n",
      "\n",
      "```\n",
      "d1: el p\u00e1jaro azul canta\n",
      "d2: el p\u00e1jaro canta en la rama del arbol\n",
      "d3: hay p\u00e1jaros en el alambre\n",
      "```\n",
      "\n",
      "Se convierte en:\n",
      "\n",
      "```\n",
      "alambre: [d3]\n",
      "azul: [d1]\n",
      "canta: [d1]\n",
      "en: [d2, d3]\n",
      "el: [d1, d2, d3]\n",
      "p\u00e1jaro: [d1, d2]\n",
      "...\n",
      "```"
     ]
    },
    {
     "cell_type": "markdown",
     "metadata": {},
     "source": [
      "El diccionario de t\u00e9rminos debe se almacena en memoria y guarda un apundador a la lista de documentos que generalmente est\u00e1 almacenada en disco.\n",
      "\n",
      "\n",
      "El diccionario de t\u00e9rminos y la lista de documentos en los que aparece est\u00e1n ordenados alfab\u00e9ticamente. \n",
      "\n",
      "Adicionalmente almacenamos el n\u00famero de documentos en los que aparece cada t\u00e9rmino como parte del diccionario con el fin de tener disponible la estad\u00edstica (`df`) en la memoria. As\u00ed como el n\u00famero de veces que aparece cada t\u00e9rmino en cada documento para tener la estad\u00edstica (`tf`).\n",
      "\n",
      "```\n",
      "alambre (1): [(d3,1)]\n",
      "azul (1): [(d1, 1)]\n",
      "canta (1): [(d1,1)]\n",
      "en (2): [d2, d3]\n",
      "el (3): [d1, d2, d3]\n",
      "p\u00e1jaro (2): [d1, d2]\n",
      "...\n",
      "```\n",
      "\n"
     ]
    },
    {
     "cell_type": "markdown",
     "metadata": {},
     "source": [
      "### Estructuras para b\u00fasquedas eficientes\n",
      "\n",
      "La primera tarea importante cuando buscamos un documento es encontrar los t\u00e9rminos que aparecen en el \u00edndice, hay dos estructuras importantes, hashing y \u00e1rboles de b\u00fasqueda.\n",
      "\n",
      "Utilizar hashing es pr\u00e1ctico cuado la cantidad de memoria y llaves que requerimos no es muy grande y estamos restringidos a que las concordancias sean exactas. \n",
      "\n",
      "En cambio los \u00e1rboles de b\u00fasqueda permiten hacer b\u00fasqedas en conjuntos de datos m\u00e1s grandes, as\u00ed como realizar b\u00fasquedas por prefijos. Los tipos de arbol conocidos como _\u00e1rboles binarios_ y _B-trees_ son \u00fatiles para realizar b\u00fasquedas en tiempo _O(log M)_."
     ]
    },
    {
     "cell_type": "code",
     "collapsed": false,
     "input": [],
     "language": "python",
     "metadata": {},
     "outputs": []
    }
   ],
   "metadata": {}
  }
 ]
}