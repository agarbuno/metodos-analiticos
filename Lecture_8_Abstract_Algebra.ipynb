{
 "metadata": {
  "name": ""
 },
 "nbformat": 3,
 "nbformat_minor": 0,
 "worksheets": [
  {
   "cells": [
    {
     "cell_type": "heading",
     "level": 1,
     "metadata": {},
     "source": [
      "Lecci\u00f3n 8 - Algebra abstracta para procesamiento de datos"
     ]
    },
    {
     "cell_type": "markdown",
     "metadata": {},
     "source": [
      "### Objetivo\n",
      "El objetivo de esta lecci\u00f3n es presentar una introducci\u00f3n a los conceptos de algebra abstracta como herramienta para el procesamiento de datos."
     ]
    },
    {
     "cell_type": "markdown",
     "metadata": {},
     "source": [
      "### Algebra para procesamiento de datos\n",
      "\n",
      "Comencemos por explorar las propiedades algebr\u00e1icas de una operaci\u00f3n com\u00fan como la suma. \n",
      "\n",
      "La suma tiene algunas propiedades que son relevantes para el procesamiento de datos, una en particular es la asociatividad,\n",
      "\n",
      "* Asociatividad: dada una expresi\u00f3n con dos o m\u00e1s ocurrencias del mismo operador asociativo, el orden en que se realicen las operaciones no afecta el resultado.\n",
      "\n",
      "$$(a + b) + c = a + (b + c)$$\n",
      "\n",
      "La raz\u00f3n por la que esto es importante es por que si aplicamos la operaci\u00f3n de suma en un sistema distribuido, no importa que las sumas se realicen de forma distribuida  siempre y cuando todas las sumas se apliquen eventualmente. \n",
      "\n",
      "Veamos algunos ejemplos"
     ]
    },
    {
     "cell_type": "code",
     "collapsed": false,
     "input": [
      "val a = List(1,2,3,4,5,6)\n",
      "println(a.reduceLeft(_ + _))\n",
      "println(a.reduceRight(_ * _))\n",
      "println(a.reduce((a,b) => if (a > b) a else b))\n",
      "println(a.reduce((a,b) => if (a < b) a else b))"
     ],
     "language": "python",
     "metadata": {},
     "outputs": [
      {
       "output_type": "stream",
       "stream": "stdout",
       "text": [
        "21\n",
        "720\n",
        "6\n",
        "1\n"
       ]
      },
      {
       "output_type": "stream",
       "stream": "stderr",
       "text": []
      }
     ],
     "prompt_number": 68
    },
    {
     "cell_type": "markdown",
     "metadata": {},
     "source": [
      "Ahora supongamos que queremos operar sobre un elemento neutro."
     ]
    },
    {
     "cell_type": "code",
     "collapsed": false,
     "input": [
      "println(a.fold(0)(_ + _))\n",
      "println(a.fold(1)(_ * _))\n",
      "println(a.fold(Int.MinValue)((a,b) => if (a > b) a else b))\n",
      "println(a.fold(Int.MaxValue)((a,b) => if (a < b) a else b))"
     ],
     "language": "python",
     "metadata": {},
     "outputs": [
      {
       "output_type": "stream",
       "stream": "stdout",
       "text": [
        "21\n",
        "720\n",
        "6\n",
        "1\n"
       ]
      },
      {
       "output_type": "stream",
       "stream": "stderr",
       "text": []
      }
     ],
     "prompt_number": 8
    },
    {
     "cell_type": "markdown",
     "metadata": {},
     "source": [
      "En este punto es m\u00e1s o menos claro que este principio puede aplicar a otras operaciones, por ejemplo obtener el m\u00e1ximo o el m\u00ednimo de un conjunto de datos, etc.\n",
      "\n",
      "Ahora generalicemos este comportamiento a un objeto abstracto."
     ]
    },
    {
     "cell_type": "code",
     "collapsed": false,
     "input": [
      "trait Monoid[T] {\n",
      " def zero: T\n",
      " def plus(a: T, b: T): T\n",
      "}\n",
      "\n",
      "object IntMax extends Monoid[Int] {\n",
      "    def zero = Int.MinValue\n",
      "    def plus(a: Int,b: Int) = if (a > b) a else b\n",
      "}\n",
      "\n",
      "object IntMin extends Monoid[Int] {\n",
      "    def zero = Int.MaxValue\n",
      "    def plus(a: Int,b: Int) = if (a < b) a else b\n",
      "}\n",
      "\n",
      "object IntSum extends Monoid[Int] {\n",
      "    def zero = 0\n",
      "    def plus(a: Int,b: Int) = (a + b)\n",
      "}\n",
      "\n",
      "object StringSum extends Monoid[String] {\n",
      "    def zero = \"\"\n",
      "    def plus(a: String,b: String) = (a + b)\n",
      "}"
     ],
     "language": "python",
     "metadata": {},
     "outputs": [
      {
       "output_type": "stream",
       "stream": "stdout",
       "text": []
      },
      {
       "output_type": "stream",
       "stream": "stderr",
       "text": []
      },
      {
       "metadata": {},
       "output_type": "pyout",
       "prompt_number": 13,
       "text": [
        "StringSum$@180b686e"
       ]
      }
     ],
     "prompt_number": 13
    },
    {
     "cell_type": "code",
     "collapsed": false,
     "input": [
      "def printSum(a:Seq[Int], op: Monoid[Int]) {\n",
      "  println(a.fold(op.zero)(op.plus))\n",
      "}\n",
      "\n",
      "println(a.fold(IntMax.zero)(IntMax.plus))\n",
      "println(a.fold(IntMin.zero)(IntMin.plus))\n",
      "println(a.fold(IntSum.zero)(IntSum.plus))\n",
      "println(a.map(_.toString).fold(StringSum.zero)(StringSum.plus))"
     ],
     "language": "python",
     "metadata": {},
     "outputs": [
      {
       "output_type": "stream",
       "stream": "stdout",
       "text": [
        "6\n",
        "1\n",
        "21\n",
        "123456\n"
       ]
      },
      {
       "output_type": "stream",
       "stream": "stderr",
       "text": []
      }
     ],
     "prompt_number": 15
    },
    {
     "cell_type": "markdown",
     "metadata": {},
     "source": [
      "### Semigrupos y Monoides\n",
      "\n",
      "El objeto abstracto que definimos es una representaci\u00f3n de una estructura algebr\u00e1ica conocida como monoide. \n",
      "\n",
      "Un semigrupo es un conjunto $M$ que satisface la propiedad de asociatividad bajo la operaci\u00f3n $\\circ$:\n",
      "\n",
      "* $\\forall \\; x,y \\in M$, $x \\circ y \\in M$ (cerradura) \n",
      "* $\\forall \\; x,y,z \\in M$, $(x \\circ y) \\circ z = x \\circ (y \\circ z)$ (asociatividad)\n",
      "\n",
      "\n",
      "Un monoide es un semigrupo que adicionalmente satisface la propiedad de identidad.\n",
      "\n",
      " \n",
      "* $\\exists \\; e \\in M$ tal que $\\forall \\; x \\in M$, $e \\circ x = x \\circ e$ (identidad) \n",
      "\n",
      "\n",
      "#### Monoides y computo distribuido\n",
      "\n",
      "Es importante recalcar la importancia de poder abstraer estas operaciones:\n",
      "\n",
      "* si el conjunto de datos es un semigrupo bajo cierta operaci\u00f3n, podemos confiar que un sistema distribuido que aplique estas operaciones correctamente sin tener que preocuparse de que operaci\u00f3n se est\u00e1 realizando\n",
      "* si el conjunto de datos es un monoide bajo cierta operaci\u00f3n podemos scar ventajas de matrices ralas, ya que la propiedad de identidad nos permite operar sobre los elementos no especificados\n",
      "\n",
      "#### Grupos y Anillos\n",
      "\n",
      "Un grupo es es un monoide que adicionalmente satisface la propiedad de inversa\n",
      " \n",
      "* $\\exists \\; y \\in G$ tal que $\\forall \\; x \\in M$, $x \\circ y = y \\circ x= e$ (inverso)\n",
      "\n",
      "Un grupo abeliano satisface adem\u00e1s la propiedad de conmutatividad\n",
      "\n",
      "Un anillo es un grupo abeliano sobre la suma que adem\u00e1s:\n",
      "\n",
      "* Tiene cerradura en la multiplicaci\u00f3n\n",
      "* Es asociativa en la multiplicaci\u00f3n\n",
      "* Satisface la propiedad distributiva de la suma sobre la multiplicaci\u00f3n\n",
      "\n",
      "T\u00edpicamente se utilizan  anillos en computo distribuido es para resolver problemas matriciales, con objetos que no son n\u00fam\u00e9ricos.\n",
      "\n",
      "Un ejemplo de es el uso de un anillo para resolver el problema de caminos m\u00e1s cortos sobre un grafo.\n",
      "\n",
      "\n",
      "\n"
     ]
    },
    {
     "cell_type": "markdown",
     "metadata": {},
     "source": [
      "### Procesamiento de datos"
     ]
    },
    {
     "cell_type": "code",
     "collapsed": false,
     "input": [
      "%libraryDependencies += \"org.apache.spark\" %% \"spark-core\" % \"0.9.1\""
     ],
     "language": "python",
     "metadata": {},
     "outputs": []
    },
    {
     "cell_type": "code",
     "collapsed": false,
     "input": [
      "%libraryDependencies += \"com.twitter\" %% \"algebird-core\" % \"0.5.0\""
     ],
     "language": "python",
     "metadata": {},
     "outputs": [
      {
       "output_type": "stream",
       "stream": "stdout",
       "text": []
      },
      {
       "output_type": "stream",
       "stream": "stderr",
       "text": []
      }
     ],
     "prompt_number": 16
    },
    {
     "cell_type": "code",
     "collapsed": false,
     "input": [
      "%resolvers += \"Apache Spark\" at \"http://repo.maven.apache.org/maven2/\""
     ],
     "language": "python",
     "metadata": {},
     "outputs": []
    },
    {
     "cell_type": "code",
     "collapsed": false,
     "input": [
      "%update"
     ],
     "language": "python",
     "metadata": {},
     "outputs": [
      {
       "output_type": "stream",
       "stream": "stdout",
       "text": [
        "[info] Resolving org.apache.spark#spark-core_2.10;0.9.1 ...\n",
        "[info] Resolving org.apache.hadoop#hadoop-client;1.0.4 ...\n",
        "[info] Resolving org.apache.hadoop#hadoop-core;1.0.4 ...\n",
        "[info] Resolving xmlenc#xmlenc;0.52 ...\n",
        "[info] Resolving commons-codec#commons-codec;1.4 ...\n",
        "[info] Resolving org.apache.commons#commons-math;2.1 ...\n",
        "[info] Resolving commons-configuration#commons-configuration;1.6 ...\n",
        "[info] Resolving commons-collections#commons-collections;3.2.1 ...\n",
        "[info] Resolving commons-lang#commons-lang;2.4 ...\n",
        "[info] Resolving commons-logging#commons-logging;1.1.1 ...\n",
        "[info] Resolving commons-digester#commons-digester;1.8 ...\n",
        "[info] Resolving commons-beanutils#commons-beanutils;1.7.0 ...\n",
        "[info] Resolving commons-beanutils#commons-beanutils-core;1.8.0 ...\n",
        "[info] Resolving commons-net#commons-net;1.4.1 ...\n",
        "[info] Resolving oro#oro;2.0.8 ...\n",
        "[info] Resolving commons-el#commons-el;1.0 ...\n",
        "[info] Resolving hsqldb#hsqldb;1.8.0.10 ...\n",
        "[info] Resolving net.java.dev.jets3t#jets3t;0.7.1 ...\n",
        "[info] Resolving commons-httpclient#commons-httpclient;3.1 ...\n",
        "[info] Resolving org.apache.avro#avro;1.7.4 ...\n",
        "[info] Resolving org.codehaus.jackson#jackson-core-asl;1.8.8 ...\n"
       ]
      },
      {
       "output_type": "stream",
       "stream": "stdout",
       "text": [
        "[info] Resolving org.codehaus.jackson#jackson-mapper-asl;1.8.8 ...\n"
       ]
      },
      {
       "output_type": "stream",
       "stream": "stdout",
       "text": [
        "[info] Resolving com.thoughtworks.paranamer#paranamer;2.3 ...\n"
       ]
      },
      {
       "output_type": "stream",
       "stream": "stdout",
       "text": [
        "[info] Resolving org.xerial.snappy#snappy-java;1.0.5 ...\n"
       ]
      },
      {
       "output_type": "stream",
       "stream": "stdout",
       "text": [
        "[info] Resolving org.apache.commons#commons-compress;1.4.1 ...\n",
        "[info] Resolving org.tukaani#xz;1.0 ...\n"
       ]
      },
      {
       "output_type": "stream",
       "stream": "stdout",
       "text": [
        "[info] Resolving org.slf4j#slf4j-api;1.7.2 ...\n"
       ]
      },
      {
       "output_type": "stream",
       "stream": "stdout",
       "text": [
        "[info] Resolving org.apache.avro#avro-ipc;1.7.4 ...\n"
       ]
      },
      {
       "output_type": "stream",
       "stream": "stdout",
       "text": [
        "[info] Resolving org.mortbay.jetty#jetty;6.1.26 ...\n"
       ]
      },
      {
       "output_type": "stream",
       "stream": "stdout",
       "text": [
        "[info] Resolving org.mortbay.jetty#jetty-util;6.1.26 ...\n"
       ]
      },
      {
       "output_type": "stream",
       "stream": "stdout",
       "text": [
        "[info] Resolving org.mortbay.jetty#servlet-api;2.5-20081211 ...\n",
        "[info] Resolving org.apache.velocity#velocity;1.7 ...\n"
       ]
      },
      {
       "output_type": "stream",
       "stream": "stdout",
       "text": [
        "[info] Resolving org.apache.zookeeper#zookeeper;3.4.5 ...\n"
       ]
      },
      {
       "output_type": "stream",
       "stream": "stdout",
       "text": [
        "[info] Resolving org.slf4j#slf4j-log4j12;1.7.2 ...\n"
       ]
      },
      {
       "output_type": "stream",
       "stream": "stdout",
       "text": [
        "[info] Resolving log4j#log4j;1.2.17 ...\n"
       ]
      },
      {
       "output_type": "stream",
       "stream": "stdout",
       "text": [
        "[info] Resolving jline#jline;0.9.94 ...\n"
       ]
      },
      {
       "output_type": "stream",
       "stream": "stdout",
       "text": [
        "[info] Resolving junit#junit;3.8.1 ...\n",
        "[info] Resolving org.eclipse.jetty#jetty-server;7.6.8.v20121106 ...\n"
       ]
      },
      {
       "output_type": "stream",
       "stream": "stdout",
       "text": [
        "[info] Resolving org.eclipse.jetty.orbit#javax.servlet;2.5.0.v201103041518 ...\n",
        "[info] Resolving org.eclipse.jetty#jetty-continuation;7.6.8.v20121106 ...\n",
        "[info] Resolving org.eclipse.jetty#jetty-http;7.6.8.v20121106 ...\n",
        "[info] Resolving org.eclipse.jetty#jetty-io;7.6.8.v20121106 ...\n",
        "[info] Resolving org.eclipse.jetty#jetty-util;7.6.8.v20121106 ...\n",
        "[info] Resolving com.google.guava#guava;14.0.1 ...\n",
        "[info] Resolving com.google.code.findbugs#jsr305;1.3.9 ...\n",
        "[info] Resolving com.ning#compress-lzf;1.0.0 ...\n",
        "[info] Resolving com.twitter#chill_2.10;0.3.1 ...\n",
        "[info] Resolving com.twitter#chill-java;0.3.1 ...\n",
        "[info] Resolving com.esotericsoftware.kryo#kryo;2.21 ...\n",
        "[info] Resolving com.esotericsoftware.reflectasm#reflectasm;1.07 ...\n",
        "[info] Resolving org.ow2.asm#asm;4.0 ...\n",
        "[info] Resolving com.esotericsoftware.minlog#minlog;1.2 ...\n",
        "[info] Resolving org.objenesis#objenesis;1.2 ...\n",
        "[info] Resolving org.scala-lang#scala-library;2.10.3 ...\n"
       ]
      },
      {
       "output_type": "stream",
       "stream": "stdout",
       "text": [
        "[info] Resolving org.ow2.asm#asm-commons;4.0 ...\n",
        "[info] Resolving org.ow2.asm#asm-tree;4.0 ...\n",
        "[info] Resolving org.spark-project.akka#akka-remote_2.10;2.2.3-shaded-protobuf ...\n",
        "[info] Resolving org.spark-project.akka#akka-actor_2.10;2.2.3-shaded-protobuf ...\n",
        "[info] Resolving com.typesafe#config;1.0.2 ...\n",
        "[info] Resolving io.netty#netty;3.6.6.Final ...\n",
        "[info] Resolving org.spark-project.protobuf#protobuf-java;2.4.1-shaded ...\n",
        "[info] Resolving org.uncommons.maths#uncommons-maths;1.2.2a ...\n",
        "[info] Resolving org.spark-project.akka#akka-slf4j_2.10;2.2.3-shaded-protobuf ...\n",
        "[info] Resolving net.liftweb#lift-json_2.10;2.5.1 ...\n",
        "[info] Resolving com.thoughtworks.paranamer#paranamer;2.4.1 ...\n",
        "[info] Resolving it.unimi.dsi#fastutil;6.4.4 ...\n",
        "[info] Resolving colt#colt;1.2.0 ...\n",
        "[info] Resolving concurrent#concurrent;1.3.4 ...\n",
        "[info] Resolving org.apache.mesos#mesos;0.13.0 ...\n",
        "[info] Resolving com.google.protobuf#protobuf-java;2.4.1 ...\n",
        "[info] Resolving io.netty#netty-all;4.0.13.Final ...\n",
        "[info] Resolving com.clearspring.analytics#stream;2.4.0 ...\n",
        "[info] Resolving com.codahale.metrics#metrics-core;3.0.0 ...\n",
        "[info] Resolving com.codahale.metrics#metrics-jvm;3.0.0 ...\n",
        "[info] Resolving com.codahale.metrics#metrics-json;3.0.0 ...\n",
        "[info] Resolving com.fasterxml.jackson.core#jackson-databind;2.2.2 ...\n",
        "[info] Resolving com.fasterxml.jackson.core#jackson-annotations;2.2.2 ...\n",
        "[info] Resolving com.fasterxml.jackson.core#jackson-core;2.2.2 ...\n"
       ]
      },
      {
       "output_type": "stream",
       "stream": "stdout",
       "text": [
        "[info] Resolving com.codahale.metrics#metrics-graphite;3.0.0 ...\n"
       ]
      },
      {
       "output_type": "stream",
       "stream": "stdout",
       "text": [
        "[info] Resolving com.twitter#algebird-core_2.10;0.5.0 ...\n"
       ]
      },
      {
       "output_type": "stream",
       "stream": "stdout",
       "text": [
        "[info] Resolving com.googlecode.javaewah#JavaEWAH;0.6.6 ...\n"
       ]
      },
      {
       "output_type": "stream",
       "stream": "stdout",
       "text": [
        "[info] downloading https://oss.sonatype.org/content/repositories/releases/com/twitter/algebird-core_2.10/0.5.0/algebird-core_2.10-0.5.0.jar ...\n"
       ]
      },
      {
       "output_type": "stream",
       "stream": "stdout",
       "text": [
        "[info] \t[SUCCESSFUL ] com.twitter#algebird-core_2.10;0.5.0!algebird-core_2.10.jar (7010ms)\n"
       ]
      },
      {
       "output_type": "stream",
       "stream": "stderr",
       "text": []
      },
      {
       "output_type": "stream",
       "stream": "stdout",
       "text": []
      }
     ]
    },
    {
     "cell_type": "markdown",
     "metadata": {},
     "source": [
      "### Algebird\n",
      "\n",
      "A continuaci\u00f3n utilizaremos la librer\u00eda para algebra abstracta Algebird, estos ejemplos provienen de https://github.com/twitter/algebird/wiki/Algebird-Examples-with-REPL"
     ]
    },
    {
     "cell_type": "code",
     "collapsed": false,
     "input": [
      "import com.twitter.algebird._"
     ],
     "language": "python",
     "metadata": {},
     "outputs": []
    },
    {
     "cell_type": "markdown",
     "metadata": {},
     "source": [
      "Comencemos por definir un filtro de Bloom"
     ]
    },
    {
     "cell_type": "code",
     "collapsed": false,
     "input": [
      "val NUM_HASHES = 6\n",
      "val WIDTH = 32\n",
      "val SEED = 1\n",
      "val bfMonoid = new BloomFilterMonoid(NUM_HASHES, WIDTH, SEED)\n",
      "val bf = bfMonoid.create(\"1\", \"2\", \"3\", \"4\", \"100\")\n",
      "println(bf.contains(\"1\"))\n",
      "println(bf.contains(\"0\"))"
     ],
     "language": "python",
     "metadata": {},
     "outputs": [
      {
       "output_type": "stream",
       "stream": "stdout",
       "text": [
        "ApproximateBoolean(true,0.9290349745708529)\n",
        "ApproximateBoolean(false,1.0)\n"
       ]
      },
      {
       "output_type": "stream",
       "stream": "stderr",
       "text": []
      }
     ],
     "prompt_number": 23
    },
    {
     "cell_type": "markdown",
     "metadata": {},
     "source": [
      "Ahora sumemos operemos sobre varios filtros \"provenientes de otras m\u00e1quinas\""
     ]
    },
    {
     "cell_type": "code",
     "collapsed": false,
     "input": [
      "val bfList =  List(bf, \n",
      "                   bfMonoid.create(\"0\", \"2\", \"3\", \"4\", \"400\"), \n",
      "                   bfMonoid.create(\"8.5\"))\n",
      "val bfSum =bfList.reduce(bfMonoid.plus(_,_))\n",
      "println(bfSum.contains(\"1\"))\n",
      "println(bfSum.contains(\"43\"))\n",
      "println(bfSum.contains(\"0\"))\n",
      "println(bfSum.contains(\"8.5\"))"
     ],
     "language": "python",
     "metadata": {},
     "outputs": [
      {
       "output_type": "stream",
       "stream": "stdout",
       "text": [
        "ApproximateBoolean(true,0.7218319753855025)\n",
        "ApproximateBoolean(false,1.0)\n",
        "ApproximateBoolean(true,0.7218319753855025)\n",
        "ApproximateBoolean(true,0.7218319753855025)\n"
       ]
      },
      {
       "output_type": "stream",
       "stream": "stderr",
       "text": []
      }
     ],
     "prompt_number": 30
    },
    {
     "cell_type": "markdown",
     "metadata": {},
     "source": [
      "Apliquemos el conteo de elementos con HyperLogLog"
     ]
    },
    {
     "cell_type": "code",
     "collapsed": false,
     "input": [
      "import HyperLogLog._\n",
      "val hll = new HyperLogLogMonoid(4)"
     ],
     "language": "python",
     "metadata": {},
     "outputs": [
      {
       "output_type": "stream",
       "stream": "stderr",
       "text": []
      },
      {
       "output_type": "stream",
       "stream": "stdout",
       "text": []
      },
      {
       "metadata": {},
       "output_type": "pyout",
       "prompt_number": 2,
       "text": [
        "com.twitter.algebird.HyperLogLogMonoid@2d35ff1b"
       ]
      }
     ],
     "prompt_number": 2
    },
    {
     "cell_type": "code",
     "collapsed": false,
     "input": [
      "val data = List(1, 1, 2, 2, 3, 3, 4, 4, 5, 5, 2, 2, 8, 9, 11, 30, 40)\n",
      "val sumHll = data.map(hll(_)).reduce(hll.plus(_,_))\n",
      "val approxSizeOf = hll.sizeOf(sumHll)\n",
      "println(approxSizeOf.estimate)\n",
      "println(data.toSet.size)"
     ],
     "language": "python",
     "metadata": {},
     "outputs": [
      {
       "output_type": "stream",
       "stream": "stdout",
       "text": [
        "9\n",
        "10\n"
       ]
      },
      {
       "output_type": "stream",
       "stream": "stderr",
       "text": []
      }
     ],
     "prompt_number": 36
    },
    {
     "cell_type": "markdown",
     "metadata": {},
     "source": [
      "Ahora sumemos el resultado \"proveniente de cada m\u00e1quina\""
     ]
    },
    {
     "cell_type": "code",
     "collapsed": false,
     "input": [
      "val data2 = List(20, 35, 40)\n",
      "val sumHll2 = data2.map(hll(_)).reduce(hll.plus(_,_))"
     ],
     "language": "python",
     "metadata": {},
     "outputs": [
      {
       "output_type": "stream",
       "stream": "stderr",
       "text": []
      },
      {
       "output_type": "stream",
       "stream": "stdout",
       "text": []
      },
      {
       "metadata": {},
       "output_type": "pyout",
       "prompt_number": 42,
       "text": [
        "DenseHLL(4,Vector(0, 0, 1, 0, 0, 0, 0, 0, 0, 0, 2, 0, 0, 0, 0, 3))"
       ]
      }
     ],
     "prompt_number": 42
    },
    {
     "cell_type": "code",
     "collapsed": false,
     "input": [
      "val totalHll = hll.sum(List(sumHll, sumHll2))"
     ],
     "language": "python",
     "metadata": {},
     "outputs": [
      {
       "output_type": "stream",
       "stream": "stdout",
       "text": []
      },
      {
       "output_type": "stream",
       "stream": "stderr",
       "text": []
      },
      {
       "metadata": {},
       "output_type": "pyout",
       "prompt_number": 43,
       "text": [
        "DenseHLL(4,Vector(0, 0, 4, 0, 1, 0, 1, 0, 0, 0, 2, 2, 1, 1, 0, 3))"
       ]
      }
     ],
     "prompt_number": 43
    },
    {
     "cell_type": "code",
     "collapsed": false,
     "input": [
      "println(hll.sizeOf(totalHll).estimate)\n",
      "println((data ++ data2).toSet.size)"
     ],
     "language": "python",
     "metadata": {},
     "outputs": [
      {
       "output_type": "stream",
       "stream": "stdout",
       "text": [
        "11\n",
        "12\n"
       ]
      },
      {
       "output_type": "stream",
       "stream": "stderr",
       "text": []
      }
     ],
     "prompt_number": 46
    },
    {
     "cell_type": "markdown",
     "metadata": {},
     "source": [
      "Un ejemplo m\u00e1s con Min-Hashing"
     ]
    },
    {
     "cell_type": "code",
     "collapsed": false,
     "input": [
      "val numHashes = 10\n",
      "val numBands = MinHasher.pickBands(0.9, numHashes)\n",
      "val minHasher = new MinHasher32(numHashes, numBands)"
     ],
     "language": "python",
     "metadata": {},
     "outputs": [
      {
       "output_type": "stream",
       "stream": "stderr",
       "text": []
      },
      {
       "output_type": "stream",
       "stream": "stdout",
       "text": []
      },
      {
       "metadata": {},
       "output_type": "pyout",
       "prompt_number": 47,
       "text": [
        "com.twitter.algebird.MinHasher32@2042a235"
       ]
      }
     ],
     "prompt_number": 47
    },
    {
     "cell_type": "code",
     "collapsed": false,
     "input": [
      "val sig1 = List(1,2,3,4,5).map(minHasher.init(_)).reduce(minHasher.plus)\n",
      "val sig2 = List(1,2,3,4,7).map(minHasher.init(_)).reduce(minHasher.plus)\n",
      "val sig3 = List(8,9,2,3,1).map(minHasher.init(_)).reduce(minHasher.plus)\n",
      "\n",
      "println(minHasher.similarity(sig1, sig2))\n",
      "println(minHasher.similarity(sig1, sig3))\n",
      "println(minHasher.similarity(sig2, sig3))"
     ],
     "language": "python",
     "metadata": {},
     "outputs": [
      {
       "output_type": "stream",
       "stream": "stdout",
       "text": [
        "0.7\n",
        "0.2\n",
        "0.3\n"
       ]
      },
      {
       "output_type": "stream",
       "stream": "stderr",
       "text": []
      }
     ],
     "prompt_number": 51
    },
    {
     "cell_type": "markdown",
     "metadata": {},
     "source": [
      "### Count-Min-Sketch\n",
      "\n",
      "Es un m\u00e9todo que tiene similitud con los filtrros de bloom donde definimos con que probabilidad el conteo de un elemento es correcto es $p >= 1 - \\text{delta}$.\n",
      "\n"
     ]
    },
    {
     "cell_type": "code",
     "collapsed": false,
     "input": [
      "val delta= 1E-5\n",
      "val eps = 0.001\n",
      "val seed = 1\n",
      "\n",
      "val cmsMonoid = new CountMinSketchMonoid(eps, delta, seed)\n",
      "val data = List(1L, 1L, 2L, 2L, 3L, 3L, 4L, 4L, 5L, 5L, 2L, 2L, 8L, 9L, 11L, 30L, 40L)\n",
      "val cms = cmsMonoid.create(data)\n",
      "println(cms.totalCount)\n",
      "println(data.size)\n",
      "\n",
      "println(cms.frequency(3L).estimate)\n",
      "println(cms.frequency(2L).estimate)"
     ],
     "language": "python",
     "metadata": {},
     "outputs": [
      {
       "output_type": "stream",
       "stream": "stdout",
       "text": [
        "17\n",
        "17\n",
        "2\n",
        "4\n"
       ]
      },
      {
       "output_type": "stream",
       "stream": "stderr",
       "text": []
      }
     ],
     "prompt_number": 66
    },
    {
     "cell_type": "markdown",
     "metadata": {},
     "source": [
      "Agreguemos los conteos provenientes de otra m\u00e1quina"
     ]
    },
    {
     "cell_type": "code",
     "collapsed": false,
     "input": [
      "val data2 = List(1L, 1L, 2L, 2L, 3L, 3L, 4L, 4L, 5L, 5L, 2L, 2L, 8L, 9L, 11L, 30L, 40L)\n",
      "val cms2 = cmsMonoid.create(data2)\n",
      "\n",
      "val totalCms = List(cms, cms2).reduce(cmsMonoid.plus(_,_))\n",
      "\n",
      "println(totalCms.totalCount)\n",
      "\n",
      "println(totalCms.frequency(3L).estimate)\n",
      "println(totalCms.frequency(2L).estimate)"
     ],
     "language": "python",
     "metadata": {},
     "outputs": [
      {
       "output_type": "stream",
       "stream": "stdout",
       "text": [
        "34\n",
        "4\n",
        "8\n"
       ]
      },
      {
       "output_type": "stream",
       "stream": "stderr",
       "text": []
      }
     ],
     "prompt_number": 64
    },
    {
     "cell_type": "code",
     "collapsed": false,
     "input": [],
     "language": "python",
     "metadata": {},
     "outputs": []
    }
   ],
   "metadata": {}
  }
 ]
}